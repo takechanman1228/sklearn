{
 "cells": [
  {
   "cell_type": "code",
   "execution_count": 1,
   "metadata": {
    "collapsed": true
   },
   "outputs": [],
   "source": [
    "from sklearn import svm"
   ]
  },
  {
   "cell_type": "code",
   "execution_count": 43,
   "metadata": {
    "collapsed": false
   },
   "outputs": [],
   "source": [
    "%matplotlib inline\n",
    "import seaborn"
   ]
  },
  {
   "cell_type": "code",
   "execution_count": 44,
   "metadata": {
    "collapsed": true
   },
   "outputs": [],
   "source": [
    "from sklearn.datasets import load_svmlight_file,  load_svmlight_files"
   ]
  },
  {
   "cell_type": "code",
   "execution_count": 14,
   "metadata": {
    "collapsed": true
   },
   "outputs": [],
   "source": [
    " from sklearn.metrics import precision_recall_fscore_support, classification_report, accuracy_score"
   ]
  },
  {
   "cell_type": "code",
   "execution_count": 19,
   "metadata": {
    "collapsed": false
   },
   "outputs": [],
   "source": [
    "# データ読み込み\n",
    "X_train, y_train, X_test, y_test = load_svmlight_files(['dataset_svm/train.dat', 'dataset_svm/test.dat'])"
   ]
  },
  {
   "cell_type": "code",
   "execution_count": 22,
   "metadata": {
    "collapsed": false
   },
   "outputs": [],
   "source": [
    "# 線形カーネル\n",
    "linear_svc = svm.SVC(kernel='linear')\n",
    "linear_svc.fit(X_train, y_train)\n",
    "y_prediction_linear = linear_svc.predict(X_test)"
   ]
  },
  {
   "cell_type": "code",
   "execution_count": 23,
   "metadata": {
    "collapsed": false,
    "scrolled": true
   },
   "outputs": [
    {
     "name": "stdout",
     "output_type": "stream",
     "text": [
      "             precision    recall  f1-score   support\n",
      "\n",
      "       -1.0       0.99      0.96      0.98       300\n",
      "        1.0       0.96      0.99      0.98       300\n",
      "\n",
      "avg / total       0.98      0.98      0.98       600\n",
      "\n",
      "0.976666666667\n"
     ]
    }
   ],
   "source": [
    "print(classification_report(y_test, y_prediction_linear))\n",
    "print(accuracy_score(y_test, y_prediction_linear))"
   ]
  },
  {
   "cell_type": "code",
   "execution_count": 34,
   "metadata": {
    "collapsed": false
   },
   "outputs": [],
   "source": [
    "# 線形カーネル(C=10000)\n",
    "linear_svc = svm.SVC(kernel='linear', C=10000)\n",
    "linear_svc.fit(X_train, y_train)\n",
    "y_prediction_linear = linear_svc.predict(X_test)"
   ]
  },
  {
   "cell_type": "code",
   "execution_count": 35,
   "metadata": {
    "collapsed": false
   },
   "outputs": [
    {
     "name": "stdout",
     "output_type": "stream",
     "text": [
      "             precision    recall  f1-score   support\n",
      "\n",
      "       -1.0       0.99      0.96      0.97       300\n",
      "        1.0       0.96      0.99      0.97       300\n",
      "\n",
      "avg / total       0.97      0.97      0.97       600\n",
      "\n",
      "0.973333333333\n"
     ]
    }
   ],
   "source": [
    "print(classification_report(y_test, y_prediction_linear))\n",
    "print(accuracy_score(y_test, y_prediction_linear))"
   ]
  },
  {
   "cell_type": "code",
   "execution_count": 29,
   "metadata": {
    "collapsed": true
   },
   "outputs": [],
   "source": [
    "# RBFカーネル\n",
    "rbf_svc = svm.SVC(kernel='rbf')\n",
    "rbf_svc.fit(X_train, y_train)\n",
    "y_prediction_rbf = rbf_svc.predict(X_test)"
   ]
  },
  {
   "cell_type": "code",
   "execution_count": 30,
   "metadata": {
    "collapsed": false
   },
   "outputs": [
    {
     "name": "stdout",
     "output_type": "stream",
     "text": [
      "             precision    recall  f1-score   support\n",
      "\n",
      "       -1.0       0.99      0.38      0.55       300\n",
      "        1.0       0.62      1.00      0.76       300\n",
      "\n",
      "avg / total       0.80      0.69      0.66       600\n",
      "\n",
      "0.69\n"
     ]
    }
   ],
   "source": [
    "print(classification_report(y_test, y_prediction_rbf))\n",
    "print(accuracy_score(y_test, y_prediction_rbf))"
   ]
  },
  {
   "cell_type": "code",
   "execution_count": 31,
   "metadata": {
    "collapsed": true
   },
   "outputs": [],
   "source": [
    "# 多項式カーネル\n",
    "rbf_poly = svm.SVC(kernel='poly')\n",
    "rbf_poly.fit(X_train, y_train)\n",
    "y_prediction_poly = rbf_poly.predict(X_test)"
   ]
  },
  {
   "cell_type": "code",
   "execution_count": 32,
   "metadata": {
    "collapsed": false
   },
   "outputs": [
    {
     "name": "stdout",
     "output_type": "stream",
     "text": [
      "             precision    recall  f1-score   support\n",
      "\n",
      "       -1.0       0.98      0.18      0.30       300\n",
      "        1.0       0.55      1.00      0.71       300\n",
      "\n",
      "avg / total       0.77      0.59      0.51       600\n",
      "\n",
      "0.588333333333\n"
     ]
    }
   ],
   "source": [
    "print(classification_report(y_test, y_prediction_poly))\n",
    "print(accuracy_score(y_test, y_prediction_poly))"
   ]
  },
  {
   "cell_type": "code",
   "execution_count": 84,
   "metadata": {
    "collapsed": false
   },
   "outputs": [],
   "source": []
  },
  {
   "cell_type": "code",
   "execution_count": 41,
   "metadata": {
    "collapsed": false
   },
   "outputs": [
    {
     "name": "stdout",
     "output_type": "stream",
     "text": [
      "             precision    recall  f1-score   support\n",
      "\n",
      "       -1.0       0.99      0.96      0.98       300\n",
      "        1.0       0.96      0.99      0.98       300\n",
      "\n",
      "avg / total       0.98      0.98      0.98       600\n",
      "\n",
      "0.976666666667\n"
     ]
    }
   ],
   "source": [
    "# n_featuresを使った読み込み\n",
    "X_train, y_train = load_svmlight_file(\"dataset_svm/train.dat\")\n",
    "X_test, y_test = load_svmlight_file(\"dataset_svm/test.dat\", n_features=X_train.shape[1])\n",
    "# 線形カーネル\n",
    "linear_svc = svm.SVC(kernel='linear')\n",
    "linear_svc.fit(X_train, y_train)\n",
    "y_prediction_linear = linear_svc.predict(X_test)\n",
    "\n",
    "print(classification_report(y_test, y_prediction_linear))\n",
    "print(accuracy_score(y_test, y_prediction_linear))"
   ]
  },
  {
   "cell_type": "code",
   "execution_count": null,
   "metadata": {
    "collapsed": true
   },
   "outputs": [],
   "source": []
  },
  {
   "cell_type": "code",
   "execution_count": null,
   "metadata": {
    "collapsed": false
   },
   "outputs": [],
   "source": []
  },
  {
   "cell_type": "code",
   "execution_count": null,
   "metadata": {
    "collapsed": true
   },
   "outputs": [],
   "source": []
  },
  {
   "cell_type": "code",
   "execution_count": null,
   "metadata": {
    "collapsed": true
   },
   "outputs": [],
   "source": []
  }
 ],
 "metadata": {
  "kernelspec": {
   "display_name": "Python 3",
   "language": "python",
   "name": "python3"
  },
  "language_info": {
   "codemirror_mode": {
    "name": "ipython",
    "version": 3
   },
   "file_extension": ".py",
   "mimetype": "text/x-python",
   "name": "python",
   "nbconvert_exporter": "python",
   "pygments_lexer": "ipython3",
   "version": "3.5.1"
  }
 },
 "nbformat": 4,
 "nbformat_minor": 0
}
