{
 "cells": [
  {
   "cell_type": "code",
   "execution_count": 40,
   "metadata": {
    "collapsed": true
   },
   "outputs": [],
   "source": [
    "from sklearn import svm, cross_validation, grid_search\n",
    "import numpy as np\n",
    "import scipy as sp\n",
    "import pandas as pd\n",
    "%matplotlib inline\n",
    "import matplotlib.pyplot as plt\n",
    "import seaborn as sns"
   ]
  },
  {
   "cell_type": "code",
   "execution_count": 41,
   "metadata": {
    "collapsed": true
   },
   "outputs": [],
   "source": [
    "from sklearn.datasets import load_svmlight_file,  load_svmlight_files"
   ]
  },
  {
   "cell_type": "code",
   "execution_count": 42,
   "metadata": {
    "collapsed": true
   },
   "outputs": [],
   "source": [
    "from sklearn.metrics import precision_recall_fscore_support, classification_report, accuracy_score"
   ]
  },
  {
   "cell_type": "code",
   "execution_count": 43,
   "metadata": {
    "collapsed": false
   },
   "outputs": [],
   "source": [
    "# データ読み込み\n",
    "X_train, y_train, X_test, y_test = load_svmlight_files(['dataset_svm/train.dat', 'dataset_svm/test.dat'])"
   ]
  },
  {
   "cell_type": "code",
   "execution_count": 44,
   "metadata": {
    "collapsed": false
   },
   "outputs": [],
   "source": [
    "# 線形カーネル\n",
    "linear_svc = svm.SVC(kernel='linear')\n",
    "linear_svc.fit(X_train, y_train)\n",
    "y_prediction_linear = linear_svc.predict(X_test)"
   ]
  },
  {
   "cell_type": "code",
   "execution_count": 45,
   "metadata": {
    "collapsed": false,
    "scrolled": true
   },
   "outputs": [
    {
     "name": "stdout",
     "output_type": "stream",
     "text": [
      "             precision    recall  f1-score   support\n",
      "\n",
      "       -1.0       0.99      0.96      0.98       300\n",
      "        1.0       0.96      0.99      0.98       300\n",
      "\n",
      "avg / total       0.98      0.98      0.98       600\n",
      "\n",
      "0.976666666667\n"
     ]
    }
   ],
   "source": [
    "print(classification_report(y_test, y_prediction_linear))\n",
    "print(accuracy_score(y_test, y_prediction_linear))"
   ]
  },
  {
   "cell_type": "code",
   "execution_count": 46,
   "metadata": {
    "collapsed": false
   },
   "outputs": [],
   "source": [
    "# 線形カーネル(C=10000)\n",
    "linear_svc = svm.SVC(kernel='linear', C=10000)\n",
    "linear_svc.fit(X_train, y_train)\n",
    "y_prediction_linear = linear_svc.predict(X_test)"
   ]
  },
  {
   "cell_type": "code",
   "execution_count": 47,
   "metadata": {
    "collapsed": false
   },
   "outputs": [
    {
     "name": "stdout",
     "output_type": "stream",
     "text": [
      "             precision    recall  f1-score   support\n",
      "\n",
      "       -1.0       0.99      0.96      0.97       300\n",
      "        1.0       0.96      0.99      0.97       300\n",
      "\n",
      "avg / total       0.97      0.97      0.97       600\n",
      "\n",
      "0.973333333333\n"
     ]
    }
   ],
   "source": [
    "print(classification_report(y_test, y_prediction_linear))\n",
    "print(accuracy_score(y_test, y_prediction_linear))"
   ]
  },
  {
   "cell_type": "code",
   "execution_count": 48,
   "metadata": {
    "collapsed": true
   },
   "outputs": [],
   "source": [
    "# RBFカーネル\n",
    "rbf_svc = svm.SVC(kernel='rbf')\n",
    "rbf_svc.fit(X_train, y_train)\n",
    "y_prediction_rbf = rbf_svc.predict(X_test)"
   ]
  },
  {
   "cell_type": "code",
   "execution_count": 49,
   "metadata": {
    "collapsed": false
   },
   "outputs": [
    {
     "name": "stdout",
     "output_type": "stream",
     "text": [
      "             precision    recall  f1-score   support\n",
      "\n",
      "       -1.0       0.99      0.38      0.55       300\n",
      "        1.0       0.62      1.00      0.76       300\n",
      "\n",
      "avg / total       0.80      0.69      0.66       600\n",
      "\n",
      "0.69\n"
     ]
    }
   ],
   "source": [
    "print(classification_report(y_test, y_prediction_rbf))\n",
    "print(accuracy_score(y_test, y_prediction_rbf))"
   ]
  },
  {
   "cell_type": "code",
   "execution_count": 50,
   "metadata": {
    "collapsed": true
   },
   "outputs": [],
   "source": [
    "# 多項式カーネル\n",
    "rbf_poly = svm.SVC(kernel='poly')\n",
    "rbf_poly.fit(X_train, y_train)\n",
    "y_prediction_poly = rbf_poly.predict(X_test)"
   ]
  },
  {
   "cell_type": "code",
   "execution_count": 51,
   "metadata": {
    "collapsed": false
   },
   "outputs": [
    {
     "name": "stdout",
     "output_type": "stream",
     "text": [
      "             precision    recall  f1-score   support\n",
      "\n",
      "       -1.0       0.98      0.18      0.30       300\n",
      "        1.0       0.55      1.00      0.71       300\n",
      "\n",
      "avg / total       0.77      0.59      0.51       600\n",
      "\n",
      "0.588333333333\n"
     ]
    }
   ],
   "source": [
    "print(classification_report(y_test, y_prediction_poly))\n",
    "print(accuracy_score(y_test, y_prediction_poly))"
   ]
  },
  {
   "cell_type": "code",
   "execution_count": 52,
   "metadata": {
    "collapsed": false
   },
   "outputs": [
    {
     "data": {
      "text/plain": [
       "GridSearchCV(cv=None, error_score='raise',\n",
       "       estimator=SVC(C=1.0, cache_size=200, class_weight=None, coef0=0.0,\n",
       "  decision_function_shape=None, degree=3, gamma='auto', kernel='rbf',\n",
       "  max_iter=-1, probability=False, random_state=None, shrinking=True,\n",
       "  tol=0.001, verbose=False),\n",
       "       fit_params={}, iid=True, n_jobs=-1,\n",
       "       param_grid={'kernel': ('linear', 'rbf', 'poly'), 'C': array([  1.00000e-04,   1.00000e-03,   1.00000e-02,   1.00000e-01,\n",
       "         1.00000e+00,   1.00000e+01,   1.00000e+02,   1.00000e+03,\n",
       "         1.00000e+04])},\n",
       "       pre_dispatch='2*n_jobs', refit=True, scoring=None, verbose=0)"
      ]
     },
     "execution_count": 52,
     "metadata": {},
     "output_type": "execute_result"
    }
   ],
   "source": [
    "# グリッドサーチ\n",
    "parameters = {'kernel':('linear', 'rbf', 'poly'), 'C':np.logspace(-4, 4, 9)}\n",
    "svr = svm.SVC()\n",
    "clf = grid_search.GridSearchCV(svr, parameters, n_jobs = -1)\n",
    "\n",
    "clf.fit(X_train, y_train)"
   ]
  },
  {
   "cell_type": "code",
   "execution_count": 53,
   "metadata": {
    "collapsed": false
   },
   "outputs": [
    {
     "data": {
      "text/plain": [
       "SVC(C=10000.0, cache_size=200, class_weight=None, coef0=0.0,\n",
       "  decision_function_shape=None, degree=3, gamma='auto', kernel='rbf',\n",
       "  max_iter=-1, probability=False, random_state=None, shrinking=True,\n",
       "  tol=0.001, verbose=False)"
      ]
     },
     "execution_count": 53,
     "metadata": {},
     "output_type": "execute_result"
    }
   ],
   "source": [
    "# ベストパラメタ\n",
    "clf.best_estimator_"
   ]
  },
  {
   "cell_type": "code",
   "execution_count": 54,
   "metadata": {
    "collapsed": false
   },
   "outputs": [
    {
     "data": {
      "text/plain": [
       "[mean: 0.61900, std: 0.08786, params: {'kernel': 'linear', 'C': 0.0001},\n",
       " mean: 0.61900, std: 0.08786, params: {'kernel': 'rbf', 'C': 0.0001},\n",
       " mean: 0.58050, std: 0.05714, params: {'kernel': 'poly', 'C': 0.0001},\n",
       " mean: 0.61900, std: 0.08786, params: {'kernel': 'linear', 'C': 0.001},\n",
       " mean: 0.61900, std: 0.08786, params: {'kernel': 'rbf', 'C': 0.001},\n",
       " mean: 0.55300, std: 0.03976, params: {'kernel': 'poly', 'C': 0.001},\n",
       " mean: 0.61900, std: 0.08786, params: {'kernel': 'linear', 'C': 0.01},\n",
       " mean: 0.61900, std: 0.08786, params: {'kernel': 'rbf', 'C': 0.01},\n",
       " mean: 0.55200, std: 0.03870, params: {'kernel': 'poly', 'C': 0.01},\n",
       " mean: 0.85000, std: 0.06874, params: {'kernel': 'linear', 'C': 0.10000000000000001},\n",
       " mean: 0.61900, std: 0.08786, params: {'kernel': 'rbf', 'C': 0.10000000000000001},\n",
       " mean: 0.55200, std: 0.03870, params: {'kernel': 'poly', 'C': 0.10000000000000001},\n",
       " mean: 0.95250, std: 0.01410, params: {'kernel': 'linear', 'C': 1.0},\n",
       " mean: 0.61900, std: 0.08786, params: {'kernel': 'rbf', 'C': 1.0},\n",
       " mean: 0.55200, std: 0.03870, params: {'kernel': 'poly', 'C': 1.0},\n",
       " mean: 0.95000, std: 0.01177, params: {'kernel': 'linear', 'C': 10.0},\n",
       " mean: 0.61900, std: 0.08786, params: {'kernel': 'rbf', 'C': 10.0},\n",
       " mean: 0.55200, std: 0.03870, params: {'kernel': 'poly', 'C': 10.0},\n",
       " mean: 0.95000, std: 0.01177, params: {'kernel': 'linear', 'C': 100.0},\n",
       " mean: 0.61900, std: 0.08786, params: {'kernel': 'rbf', 'C': 100.0},\n",
       " mean: 0.55200, std: 0.03870, params: {'kernel': 'poly', 'C': 100.0},\n",
       " mean: 0.95000, std: 0.01177, params: {'kernel': 'linear', 'C': 1000.0},\n",
       " mean: 0.92350, std: 0.02535, params: {'kernel': 'rbf', 'C': 1000.0},\n",
       " mean: 0.55200, std: 0.03870, params: {'kernel': 'poly', 'C': 1000.0},\n",
       " mean: 0.95000, std: 0.01177, params: {'kernel': 'linear', 'C': 10000.0},\n",
       " mean: 0.95300, std: 0.01226, params: {'kernel': 'rbf', 'C': 10000.0},\n",
       " mean: 0.55200, std: 0.03870, params: {'kernel': 'poly', 'C': 10000.0}]"
      ]
     },
     "execution_count": 54,
     "metadata": {},
     "output_type": "execute_result"
    }
   ],
   "source": [
    "clf.grid_scores_"
   ]
  },
  {
   "cell_type": "code",
   "execution_count": 55,
   "metadata": {
    "collapsed": false
   },
   "outputs": [
    {
     "name": "stdout",
     "output_type": "stream",
     "text": [
      "Model with rank: 1\n",
      "Mean validation score: 0.953 (std: 0.012)\n",
      "Parameters: {'kernel': 'rbf', 'C': 10000.0}\n",
      "             precision    recall  f1-score   support\n",
      "\n",
      "       -1.0       0.99      0.96      0.97       300\n",
      "        1.0       0.96      0.99      0.98       300\n",
      "\n",
      "avg / total       0.98      0.97      0.97       600\n",
      "\n",
      "\n",
      "\n",
      "Model with rank: 2\n",
      "Mean validation score: 0.953 (std: 0.014)\n",
      "Parameters: {'kernel': 'linear', 'C': 1.0}\n",
      "             precision    recall  f1-score   support\n",
      "\n",
      "       -1.0       0.99      0.96      0.98       300\n",
      "        1.0       0.96      0.99      0.98       300\n",
      "\n",
      "avg / total       0.98      0.98      0.98       600\n",
      "\n",
      "\n",
      "\n",
      "Model with rank: 3\n",
      "Mean validation score: 0.950 (std: 0.012)\n",
      "Parameters: {'kernel': 'linear', 'C': 10.0}\n",
      "             precision    recall  f1-score   support\n",
      "\n",
      "       -1.0       0.99      0.96      0.97       300\n",
      "        1.0       0.96      0.99      0.97       300\n",
      "\n",
      "avg / total       0.97      0.97      0.97       600\n",
      "\n",
      "\n",
      "\n",
      "Model with rank: 4\n",
      "Mean validation score: 0.950 (std: 0.012)\n",
      "Parameters: {'kernel': 'linear', 'C': 100.0}\n",
      "             precision    recall  f1-score   support\n",
      "\n",
      "       -1.0       0.99      0.96      0.97       300\n",
      "        1.0       0.96      0.99      0.97       300\n",
      "\n",
      "avg / total       0.97      0.97      0.97       600\n",
      "\n",
      "\n",
      "\n",
      "Model with rank: 5\n",
      "Mean validation score: 0.950 (std: 0.012)\n",
      "Parameters: {'kernel': 'linear', 'C': 1000.0}\n",
      "             precision    recall  f1-score   support\n",
      "\n",
      "       -1.0       0.99      0.96      0.97       300\n",
      "        1.0       0.96      0.99      0.97       300\n",
      "\n",
      "avg / total       0.97      0.97      0.97       600\n",
      "\n",
      "\n",
      "\n"
     ]
    }
   ],
   "source": [
    "# 訓練データを利用したグリッドサーチの結果上位5件のカーネル、パラメタについてテストデータで検証\n",
    "from operator import itemgetter\n",
    "n_top=5\n",
    "top_scores = sorted(clf.grid_scores_, key=itemgetter(1), reverse=True)[:n_top]\n",
    "for i, score in enumerate(top_scores):\n",
    "    print(\"Model with rank: {0}\".format(i + 1))\n",
    "    print(\"Mean validation score: {0:.3f} (std: {1:.3f})\".format(\n",
    "          score.mean_validation_score,\n",
    "          np.std(score.cv_validation_scores)))\n",
    "    print(\"Parameters: {0}\".format(score.parameters))\n",
    "    \n",
    "    svc_test = svm.SVC(kernel=score.parameters[\"kernel\"], C=score.parameters[\"C\"])\n",
    "    svc_test.fit(X_train, y_train)\n",
    "    y_prediction = svc_test.predict(X_test)\n",
    "    print(classification_report(y_test, y_prediction))\n",
    "#     print(\"accuracy score:\",accuracy_score(y_test, y_prediction))\n",
    "    print(\"\")\n",
    "    print(\"\")"
   ]
  },
  {
   "cell_type": "code",
   "execution_count": null,
   "metadata": {
    "collapsed": true
   },
   "outputs": [],
   "source": []
  },
  {
   "cell_type": "code",
   "execution_count": null,
   "metadata": {
    "collapsed": true
   },
   "outputs": [],
   "source": []
  },
  {
   "cell_type": "code",
   "execution_count": 56,
   "metadata": {
    "collapsed": false
   },
   "outputs": [
    {
     "name": "stdout",
     "output_type": "stream",
     "text": [
      "             precision    recall  f1-score   support\n",
      "\n",
      "       -1.0       0.99      0.96      0.98       300\n",
      "        1.0       0.96      0.99      0.98       300\n",
      "\n",
      "avg / total       0.98      0.98      0.98       600\n",
      "\n",
      "0.976666666667\n"
     ]
    }
   ],
   "source": [
    "# n_featuresを使った読み込み\n",
    "X_train, y_train = load_svmlight_file(\"dataset_svm/train.dat\")\n",
    "X_test, y_test = load_svmlight_file(\"dataset_svm/test.dat\", n_features=X_train.shape[1])\n",
    "# 線形カーネル\n",
    "linear_svc = svm.SVC(kernel='linear')\n",
    "linear_svc.fit(X_train, y_train)\n",
    "y_prediction_linear = linear_svc.predict(X_test)\n",
    "\n",
    "print(classification_report(y_test, y_prediction_linear))\n",
    "print(accuracy_score(y_test, y_prediction_linear))"
   ]
  },
  {
   "cell_type": "code",
   "execution_count": null,
   "metadata": {
    "collapsed": true
   },
   "outputs": [],
   "source": []
  }
 ],
 "metadata": {
  "kernelspec": {
   "display_name": "Python 3",
   "language": "python",
   "name": "python3"
  },
  "language_info": {
   "codemirror_mode": {
    "name": "ipython",
    "version": 3
   },
   "file_extension": ".py",
   "mimetype": "text/x-python",
   "name": "python",
   "nbconvert_exporter": "python",
   "pygments_lexer": "ipython3",
   "version": "3.5.1"
  }
 },
 "nbformat": 4,
 "nbformat_minor": 0
}
