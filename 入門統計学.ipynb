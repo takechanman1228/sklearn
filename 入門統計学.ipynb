{
 "cells": [
  {
   "cell_type": "code",
   "execution_count": 5,
   "metadata": {
    "collapsed": true
   },
   "outputs": [],
   "source": [
    "from sklearn import linear_model\n",
    "import numpy as np\n",
    "import scipy as sp\n",
    "import pandas as pd\n",
    "%matplotlib inline\n",
    "import matplotlib.pyplot as plt\n",
    "import seaborn as sns\n",
    "from scipy.stats import gmean"
   ]
  },
  {
   "cell_type": "code",
   "execution_count": null,
   "metadata": {
    "collapsed": true
   },
   "outputs": [],
   "source": [
    "# section1"
   ]
  },
  {
   "cell_type": "code",
   "execution_count": null,
   "metadata": {
    "collapsed": true
   },
   "outputs": [],
   "source": [
    "\"\"\"\n",
    "1shou 問1\n",
    "a. 植物の成長速度(単位:mm/日)\n",
    "比率尺度\n",
    " b. 植物の病気の有無(単位:病気/健康) \n",
    "名義尺度\n",
    "c. 絶対温度(熱力学温度)で測定した気温(単位:ケルビン,K) \n",
    "比率尺度\n",
    "d. 農家アンケートで測定した仕事の「やりがい度」(5 段階の選択肢:ある, ややある,どちらでもない,それほどない,ない)\n",
    "順序尺度\n",
    " e. 実験した日付(カレンダーの日付) \n",
    "間隔尺度\n",
    "\n",
    "[注意]\n",
    "間隔尺度の* /は意味がない\n",
    "5段階アンケートなどの順序尺度は四則演算してはいけない。\n",
    "平均とかとっても意味がない！\n",
    "\n",
    "\"\"\""
   ]
  },
  {
   "cell_type": "code",
   "execution_count": 64,
   "metadata": {
    "collapsed": true
   },
   "outputs": [],
   "source": [
    "area=[60,30,365,190,136,15,37,100,170,70,783,560,50,35,595,200,300,356,155,250]\n",
    "sales=[400,15,480,993,600,150,115,50,0,130,3000,500,200,55,2200,1,900,1000,450,400]"
   ]
  },
  {
   "cell_type": "code",
   "execution_count": 65,
   "metadata": {
    "collapsed": false
   },
   "outputs": [],
   "source": [
    "df = pd.DataFrame([money,sales]).T\n",
    "df.columns=[\"money\",\"sales\"]"
   ]
  },
  {
   "cell_type": "code",
   "execution_count": 66,
   "metadata": {
    "collapsed": false,
    "scrolled": true
   },
   "outputs": [
    {
     "data": {
      "text/plain": [
       "array([[<matplotlib.axes._subplots.AxesSubplot object at 0x118131358>,\n",
       "        <matplotlib.axes._subplots.AxesSubplot object at 0x11846f518>]], dtype=object)"
      ]
     },
     "execution_count": 66,
     "metadata": {},
     "output_type": "execute_result"
    },
    {
     "data": {
      "image/png": "[encoded data removed]",
      "text/plain": [
       "<matplotlib.figure.Figure at 0x118417128>"
      ]
     },
     "metadata": {},
     "output_type": "display_data"
    }
   ],
   "source": [
    "# a. 総経営耕地面積に関する度数分布表とヒストグラムを作りなさい。\n",
    "df.hist()"
   ]
  },
  {
   "cell_type": "code",
   "execution_count": null,
   "metadata": {
    "collapsed": true
   },
   "outputs": [],
   "source": []
  },
  {
   "cell_type": "code",
   "execution_count": 67,
   "metadata": {
    "collapsed": false
   },
   "outputs": [
    {
     "data": {
      "text/html": [
       "<div>\n",
       "<table border=\"1\" class=\"dataframe\">\n",
       "  <thead>\n",
       "    <tr style=\"text-align: right;\">\n",
       "      <th></th>\n",
       "      <th>money</th>\n",
       "      <th>sales</th>\n",
       "    </tr>\n",
       "  </thead>\n",
       "  <tbody>\n",
       "    <tr>\n",
       "      <th>count</th>\n",
       "      <td>20.000000</td>\n",
       "      <td>20.000000</td>\n",
       "    </tr>\n",
       "    <tr>\n",
       "      <th>mean</th>\n",
       "      <td>581.950000</td>\n",
       "      <td>581.950000</td>\n",
       "    </tr>\n",
       "    <tr>\n",
       "      <th>std</th>\n",
       "      <td>772.010668</td>\n",
       "      <td>772.010668</td>\n",
       "    </tr>\n",
       "    <tr>\n",
       "      <th>min</th>\n",
       "      <td>0.000000</td>\n",
       "      <td>0.000000</td>\n",
       "    </tr>\n",
       "    <tr>\n",
       "      <th>25%</th>\n",
       "      <td>100.000000</td>\n",
       "      <td>100.000000</td>\n",
       "    </tr>\n",
       "    <tr>\n",
       "      <th>50%</th>\n",
       "      <td>400.000000</td>\n",
       "      <td>400.000000</td>\n",
       "    </tr>\n",
       "    <tr>\n",
       "      <th>75%</th>\n",
       "      <td>675.000000</td>\n",
       "      <td>675.000000</td>\n",
       "    </tr>\n",
       "    <tr>\n",
       "      <th>max</th>\n",
       "      <td>3000.000000</td>\n",
       "      <td>3000.000000</td>\n",
       "    </tr>\n",
       "  </tbody>\n",
       "</table>\n",
       "</div>"
      ],
      "text/plain": [
       "             money        sales\n",
       "count    20.000000    20.000000\n",
       "mean    581.950000   581.950000\n",
       "std     772.010668   772.010668\n",
       "min       0.000000     0.000000\n",
       "25%     100.000000   100.000000\n",
       "50%     400.000000   400.000000\n",
       "75%     675.000000   675.000000\n",
       "max    3000.000000  3000.000000"
      ]
     },
     "execution_count": 67,
     "metadata": {},
     "output_type": "execute_result"
    }
   ],
   "source": [
    "df.describe()"
   ]
  },
  {
   "cell_type": "code",
   "execution_count": 62,
   "metadata": {
    "collapsed": false
   },
   "outputs": [
    {
     "name": "stdout",
     "output_type": "stream",
     "text": [
      "[4 3 2 3 1 1 1 2 0 0 0 2 0 0 0 1 0 0 0] [  0  50 100 150 200 250 300 350 400 450 500 550 600 650 700 750 800 850\n",
      " 900 950]\n"
     ]
    }
   ],
   "source": [
    "# 0から1000まで50刻みで\n",
    "area_hist,area_bins=np.histogram(area, bins = range(0,1000,50))\n",
    "print(area_hist,area_bins)"
   ]
  },
  {
   "cell_type": "code",
   "execution_count": null,
   "metadata": {
    "collapsed": false
   },
   "outputs": [],
   "source": []
  },
  {
   "cell_type": "code",
   "execution_count": 72,
   "metadata": {
    "collapsed": false
   },
   "outputs": [
    {
     "name": "stdout",
     "output_type": "stream",
     "text": [
      "581.95 566200.4475 752.462921013\n",
      "1.29300269957\n"
     ]
    }
   ],
   "source": [
    "# b.area,salesについて算術平均,分散,標準偏差,変動係数を求めなさい。(めんどくさいからsalesは略)\n",
    "\n",
    "# 算術平均,分散,標準偏差\n",
    "print(np.average(sales),np.var(sales),np.std(sales))\n",
    "# 変動係数= 標準偏差/算術平均\n",
    "print(np.std(sales)/np.average(sales))"
   ]
  },
  {
   "cell_type": "code",
   "execution_count": 73,
   "metadata": {
    "collapsed": false
   },
   "outputs": [
    {
     "data": {
      "text/plain": [
       "0.84088799022903149"
      ]
     },
     "execution_count": 73,
     "metadata": {},
     "output_type": "execute_result"
    }
   ],
   "source": [
    "# c.area,salesの相関係数を求めなさい。\n",
    "np.corrcoef(money, area)[0, 1]"
   ]
  },
  {
   "cell_type": "code",
   "execution_count": 75,
   "metadata": {
    "collapsed": false
   },
   "outputs": [
    {
     "name": "stdout",
     "output_type": "stream",
     "text": [
      "4.5 20.25\n",
      "4.09062348924 7.27427152513\n"
     ]
    }
   ],
   "source": [
    "# 問3 算術平均と幾何平均を比較\n",
    "a=np.array([2,4,5,7])\n",
    "b=np.array([2,4,5,70])\n",
    "\n",
    "# 算術平均\n",
    "print(np.average(a), np.average(b))\n",
    "# print(np.mean(a), np.mean(b)) meanもaverage同じ\n",
    "# 幾何平均\n",
    "print(gmean(a), gmean(b))"
   ]
  },
  {
   "cell_type": "code",
   "execution_count": null,
   "metadata": {
    "collapsed": true
   },
   "outputs": [],
   "source": [
    "# section2"
   ]
  },
  {
   "cell_type": "code",
   "execution_count": 79,
   "metadata": {
    "collapsed": false
   },
   "outputs": [
    {
     "name": "stdout",
     "output_type": "stream",
     "text": [
      "[-0.24180593 -0.75345905 -0.1354884   0.54627276  0.02398789 -0.57404822\n",
      " -0.62056214 -0.70694513 -0.77339359 -0.6006276   3.21351383 -0.10890902\n",
      " -0.50759976 -0.70030029  2.15033851 -0.77206462  0.42267863  0.55557555\n",
      " -0.17535748 -0.24180593]\n",
      "-3.74700270811e-17 1.0\n"
     ]
    }
   ],
   "source": [
    "# 問1 標準化\n",
    "money_copy = np.copy(sales)\n",
    "money_std = (money_copy - money_copy.mean()) / money_copy.std()\n",
    "print(money_std)\n",
    "\n",
    "# 標準化後は平均0,標準偏差1\n",
    "print(np.mean(money_std),np.std(money_std))"
   ]
  },
  {
   "cell_type": "code",
   "execution_count": 80,
   "metadata": {
    "collapsed": false
   },
   "outputs": [
    {
     "name": "stdout",
     "output_type": "stream",
     "text": [
      "3.5112340125130954\n",
      "2.0338820294575446\n"
     ]
    }
   ],
   "source": [
    "# 歪度\n",
    "print(sp.stats.kurtosis(sales))\n",
    "# 尖度\n",
    "print(sp.stats.skew(sales))"
   ]
  },
  {
   "cell_type": "code",
   "execution_count": 82,
   "metadata": {
    "collapsed": false
   },
   "outputs": [
    {
     "name": "stdout",
     "output_type": "stream",
     "text": [
      "標準化後得点: 2.0\n",
      "偏差値: 70.0\n"
     ]
    }
   ],
   "source": [
    "print(\"標準化後得点:\",str((80-60)/10))\n",
    "print(\"偏差値:\",str((80-60)*10/10+50))"
   ]
  },
  {
   "cell_type": "code",
   "execution_count": null,
   "metadata": {
    "collapsed": true
   },
   "outputs": [],
   "source": [
    "# 付録の標準正規分布表の上側確率をみる\n",
    "# 上位2.28%"
   ]
  },
  {
   "cell_type": "code",
   "execution_count": 93,
   "metadata": {
    "collapsed": false
   },
   "outputs": [],
   "source": [
    "japan=127370000\n",
    "n=484600 #松戸人口\n",
    "people_per_year=20204\n",
    "\n",
    "# 食中毒はめったにおきないのでポアソン分布に従って発生するとしてよい\n",
    "# lanbda=試行回数n(松戸市民人口) * 生起確率p(国民 1 人が 1 日あたりに食 中毒になる確率) \n",
    "lam=n*(people_per_year/(365*japan))"
   ]
  },
  {
   "cell_type": "code",
   "execution_count": 94,
   "metadata": {
    "collapsed": false
   },
   "outputs": [
    {
     "data": {
      "text/plain": [
       "0.81009710260405043"
      ]
     },
     "execution_count": 94,
     "metadata": {},
     "output_type": "execute_result"
    }
   ],
   "source": [
    "# https://docs.scipy.org/doc/scipy/reference/generated/scipy.stats.poisson.html\n",
    "# ポアソン分布=平均でλ回発生する事象が x 回発生すると考えられる確率\n",
    "# 今回ほしいのは千葉県松戸市(人口 484 600 人)において食 中毒にかかる人が 1 人も発生しない日の確率\n",
    "sp.stats.poisson.pmf(0,lam)"
   ]
  },
  {
   "cell_type": "code",
   "execution_count": null,
   "metadata": {
    "collapsed": false
   },
   "outputs": [],
   "source": []
  },
  {
   "cell_type": "code",
   "execution_count": null,
   "metadata": {
    "collapsed": true
   },
   "outputs": [],
   "source": []
  },
  {
   "cell_type": "code",
   "execution_count": null,
   "metadata": {
    "collapsed": false
   },
   "outputs": [],
   "source": []
  },
  {
   "cell_type": "code",
   "execution_count": null,
   "metadata": {
    "collapsed": true
   },
   "outputs": [],
   "source": []
  }
 ],
 "metadata": {
  "kernelspec": {
   "display_name": "Python 3",
   "language": "python",
   "name": "python3"
  },
  "language_info": {
   "codemirror_mode": {
    "name": "ipython",
    "version": 3
   },
   "file_extension": ".py",
   "mimetype": "text/x-python",
   "name": "python",
   "nbconvert_exporter": "python",
   "pygments_lexer": "ipython3",
   "version": "3.5.2"
  }
 },
 "nbformat": 4,
 "nbformat_minor": 0
}
